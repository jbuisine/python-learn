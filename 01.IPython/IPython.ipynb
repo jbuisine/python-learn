{
 "cells": [
  {
   "cell_type": "markdown",
   "metadata": {},
   "source": [
    "# IPython"
   ]
  },
  {
   "cell_type": "markdown",
   "metadata": {},
   "source": [
    "## Useful commands with IPython"
   ]
  },
  {
   "cell_type": "code",
   "execution_count": 42,
   "metadata": {},
   "outputs": [],
   "source": [
    "# Default configuration for using auto completion with tab key\n",
    "%config IPCompleter.greedy=True"
   ]
  },
  {
   "cell_type": "markdown",
   "metadata": {},
   "source": [
    "### Help and documentation"
   ]
  },
  {
   "cell_type": "code",
   "execution_count": 43,
   "metadata": {},
   "outputs": [
    {
     "name": "stdout",
     "output_type": "stream",
     "text": [
      "Help on built-in function len in module builtins:\n",
      "\n",
      "len(obj, /)\n",
      "    Return the number of items in a container.\n",
      "\n"
     ]
    }
   ],
   "source": [
    "help(len)"
   ]
  },
  {
   "cell_type": "code",
   "execution_count": 44,
   "metadata": {},
   "outputs": [],
   "source": [
    "len?"
   ]
  },
  {
   "cell_type": "markdown",
   "metadata": {},
   "source": [
    "### Object and functions documentation"
   ]
  },
  {
   "cell_type": "code",
   "execution_count": 45,
   "metadata": {},
   "outputs": [],
   "source": [
    "myArray = [1, 2, 3, 4, 5]\n",
    "myArray.insert?"
   ]
  },
  {
   "cell_type": "code",
   "execution_count": 23,
   "metadata": {},
   "outputs": [
    {
     "name": "stdout",
     "output_type": "stream",
     "text": [
      "[10, 1, 2, 3, 4, 5]\n"
     ]
    }
   ],
   "source": [
    "# with use of documentation\n",
    "myArray.insert(0, 10)\n",
    "print(myArray) "
   ]
  },
  {
   "cell_type": "markdown",
   "metadata": {},
   "source": [
    "### Function creation"
   ]
  },
  {
   "cell_type": "code",
   "execution_count": 32,
   "metadata": {},
   "outputs": [],
   "source": [
    "def multiply(x, y):\n",
    "    return x * y\n",
    "\n",
    "def puissance(x, p):\n",
    "    sum = 1\n",
    "    for i in range(0, p):\n",
    "        sum *= x\n",
    "    return sum"
   ]
  },
  {
   "cell_type": "code",
   "execution_count": 33,
   "metadata": {},
   "outputs": [
    {
     "data": {
      "text/plain": [
       "18"
      ]
     },
     "execution_count": 33,
     "metadata": {},
     "output_type": "execute_result"
    }
   ],
   "source": [
    "multiply(3, 6)"
   ]
  },
  {
   "cell_type": "code",
   "execution_count": 34,
   "metadata": {},
   "outputs": [
    {
     "data": {
      "text/plain": [
       "1024"
      ]
     },
     "execution_count": 34,
     "metadata": {},
     "output_type": "execute_result"
    }
   ],
   "source": [
    "puissance(2, 10)"
   ]
  },
  {
   "cell_type": "markdown",
   "metadata": {},
   "source": [
    "### Source code access"
   ]
  },
  {
   "cell_type": "code",
   "execution_count": 49,
   "metadata": {},
   "outputs": [],
   "source": [
    "# C or some other compiled extension language cannot be accessed\n",
    "multiply??"
   ]
  },
  {
   "cell_type": "markdown",
   "metadata": {},
   "source": [
    "### Widcard matching"
   ]
  },
  {
   "cell_type": "code",
   "execution_count": 50,
   "metadata": {},
   "outputs": [],
   "source": [
    "*en?"
   ]
  },
  {
   "cell_type": "code",
   "execution_count": 51,
   "metadata": {},
   "outputs": [],
   "source": [
    "myArray.c*?"
   ]
  },
  {
   "cell_type": "markdown",
   "metadata": {},
   "source": [
    "## Magic commands"
   ]
  },
  {
   "cell_type": "markdown",
   "metadata": {},
   "source": [
    "All magic commands ar prefixed by the % character."
   ]
  },
  {
   "cell_type": "code",
   "execution_count": 3,
   "metadata": {},
   "outputs": [
    {
     "name": "stderr",
     "output_type": "stream",
     "text": [
      "UsageError: Line magic function `%paste` not found.\n"
     ]
    }
   ],
   "source": [
    "# works only on IPython\n",
    "%paste # use for paste external code and well indent it\n",
    "%cpaste # use for paste one or more chunks of code to be executed "
   ]
  },
  {
   "cell_type": "code",
   "execution_count": 4,
   "metadata": {},
   "outputs": [
    {
     "name": "stdout",
     "output_type": "stream",
     "text": [
      "1 squared is 1\n",
      "2 squared is 4\n",
      "3 squared is 9\n"
     ]
    }
   ],
   "source": [
    "%run external.py"
   ]
  },
  {
   "cell_type": "code",
   "execution_count": 10,
   "metadata": {},
   "outputs": [
    {
     "name": "stdout",
     "output_type": "stream",
     "text": [
      "410 µs ± 20.5 µs per loop (mean ± std. dev. of 7 runs, 1000 loops each)\n"
     ]
    }
   ],
   "source": [
    "# %timeit is useful magic function for determine the execution time of single line Python statement\n",
    "%timeit L = [n ** 2 ** 2 for n in range(1000)]"
   ]
  },
  {
   "cell_type": "code",
   "execution_count": 9,
   "metadata": {},
   "outputs": [
    {
     "name": "stdout",
     "output_type": "stream",
     "text": [
      "498 µs ± 23.6 µs per loop (mean ± std. dev. of 7 runs, 1000 loops each)\n"
     ]
    }
   ],
   "source": [
    "%%timeit # for multi lines statements\n",
    "L = []\n",
    "for n in range(1000):\n",
    "     L.append(n ** 2)"
   ]
  },
  {
   "cell_type": "code",
   "execution_count": 11,
   "metadata": {},
   "outputs": [],
   "source": [
    "# get documentation of function \n",
    "%timeit?"
   ]
  },
  {
   "cell_type": "code",
   "execution_count": 16,
   "metadata": {},
   "outputs": [],
   "source": [
    "# get whole magic command documentation in latex\n",
    "%magic"
   ]
  },
  {
   "cell_type": "code",
   "execution_count": 17,
   "metadata": {},
   "outputs": [
    {
     "data": {
      "application/json": {
       "cell": {
        "!": "OSMagics",
        "HTML": "Other",
        "SVG": "Other",
        "bash": "Other",
        "capture": "ExecutionMagics",
        "debug": "ExecutionMagics",
        "file": "Other",
        "html": "DisplayMagics",
        "javascript": "DisplayMagics",
        "js": "DisplayMagics",
        "latex": "DisplayMagics",
        "markdown": "DisplayMagics",
        "perl": "Other",
        "prun": "ExecutionMagics",
        "pypy": "Other",
        "python": "Other",
        "python2": "Other",
        "python3": "Other",
        "ruby": "Other",
        "script": "ScriptMagics",
        "sh": "Other",
        "svg": "DisplayMagics",
        "sx": "OSMagics",
        "system": "OSMagics",
        "time": "ExecutionMagics",
        "timeit": "ExecutionMagics",
        "writefile": "OSMagics"
       },
       "line": {
        "alias": "OSMagics",
        "alias_magic": "BasicMagics",
        "autocall": "AutoMagics",
        "automagic": "AutoMagics",
        "autosave": "KernelMagics",
        "bookmark": "OSMagics",
        "cat": "Other",
        "cd": "OSMagics",
        "clear": "KernelMagics",
        "colors": "BasicMagics",
        "config": "ConfigMagics",
        "connect_info": "KernelMagics",
        "cp": "Other",
        "debug": "ExecutionMagics",
        "dhist": "OSMagics",
        "dirs": "OSMagics",
        "doctest_mode": "BasicMagics",
        "ed": "Other",
        "edit": "KernelMagics",
        "env": "OSMagics",
        "gui": "BasicMagics",
        "hist": "Other",
        "history": "HistoryMagics",
        "killbgscripts": "ScriptMagics",
        "ldir": "Other",
        "less": "KernelMagics",
        "lf": "Other",
        "lk": "Other",
        "ll": "Other",
        "load": "CodeMagics",
        "load_ext": "ExtensionMagics",
        "loadpy": "CodeMagics",
        "logoff": "LoggingMagics",
        "logon": "LoggingMagics",
        "logstart": "LoggingMagics",
        "logstate": "LoggingMagics",
        "logstop": "LoggingMagics",
        "ls": "Other",
        "lsmagic": "BasicMagics",
        "lx": "Other",
        "macro": "ExecutionMagics",
        "magic": "BasicMagics",
        "man": "KernelMagics",
        "matplotlib": "PylabMagics",
        "mkdir": "Other",
        "more": "KernelMagics",
        "mv": "Other",
        "notebook": "BasicMagics",
        "page": "BasicMagics",
        "pastebin": "CodeMagics",
        "pdb": "ExecutionMagics",
        "pdef": "NamespaceMagics",
        "pdoc": "NamespaceMagics",
        "pfile": "NamespaceMagics",
        "pinfo": "NamespaceMagics",
        "pinfo2": "NamespaceMagics",
        "pip": "BasicMagics",
        "popd": "OSMagics",
        "pprint": "BasicMagics",
        "precision": "BasicMagics",
        "profile": "BasicMagics",
        "prun": "ExecutionMagics",
        "psearch": "NamespaceMagics",
        "psource": "NamespaceMagics",
        "pushd": "OSMagics",
        "pwd": "OSMagics",
        "pycat": "OSMagics",
        "pylab": "PylabMagics",
        "qtconsole": "KernelMagics",
        "quickref": "BasicMagics",
        "recall": "HistoryMagics",
        "rehashx": "OSMagics",
        "reload_ext": "ExtensionMagics",
        "rep": "Other",
        "rerun": "HistoryMagics",
        "reset": "NamespaceMagics",
        "reset_selective": "NamespaceMagics",
        "rm": "Other",
        "rmdir": "Other",
        "run": "ExecutionMagics",
        "save": "CodeMagics",
        "sc": "OSMagics",
        "set_env": "OSMagics",
        "store": "StoreMagics",
        "sx": "OSMagics",
        "system": "OSMagics",
        "tb": "ExecutionMagics",
        "time": "ExecutionMagics",
        "timeit": "ExecutionMagics",
        "unalias": "OSMagics",
        "unload_ext": "ExtensionMagics",
        "who": "NamespaceMagics",
        "who_ls": "NamespaceMagics",
        "whos": "NamespaceMagics",
        "xdel": "NamespaceMagics",
        "xmode": "BasicMagics"
       }
      },
      "text/plain": [
       "Available line magics:\n",
       "%alias  %alias_magic  %autocall  %automagic  %autosave  %bookmark  %cat  %cd  %clear  %colors  %config  %connect_info  %cp  %debug  %dhist  %dirs  %doctest_mode  %ed  %edit  %env  %gui  %hist  %history  %killbgscripts  %ldir  %less  %lf  %lk  %ll  %load  %load_ext  %loadpy  %logoff  %logon  %logstart  %logstate  %logstop  %ls  %lsmagic  %lx  %macro  %magic  %man  %matplotlib  %mkdir  %more  %mv  %notebook  %page  %pastebin  %pdb  %pdef  %pdoc  %pfile  %pinfo  %pinfo2  %popd  %pprint  %precision  %profile  %prun  %psearch  %psource  %pushd  %pwd  %pycat  %pylab  %qtconsole  %quickref  %recall  %rehashx  %reload_ext  %rep  %rerun  %reset  %reset_selective  %rm  %rmdir  %run  %save  %sc  %set_env  %store  %sx  %system  %tb  %time  %timeit  %unalias  %unload_ext  %who  %who_ls  %whos  %xdel  %xmode\n",
       "\n",
       "Available cell magics:\n",
       "%%!  %%HTML  %%SVG  %%bash  %%capture  %%debug  %%file  %%html  %%javascript  %%js  %%latex  %%markdown  %%perl  %%prun  %%pypy  %%python  %%python2  %%python3  %%ruby  %%script  %%sh  %%svg  %%sx  %%system  %%time  %%timeit  %%writefile\n",
       "\n",
       "Automagic is ON, % prefix IS NOT needed for line magics."
      ]
     },
     "execution_count": 17,
     "metadata": {},
     "output_type": "execute_result"
    }
   ],
   "source": [
    "# quick print of magic documentation\n",
    "%lsmagic"
   ]
  },
  {
   "cell_type": "markdown",
   "metadata": {},
   "source": [
    "## Input & output history"
   ]
  },
  {
   "cell_type": "code",
   "execution_count": 21,
   "metadata": {},
   "outputs": [
    {
     "data": {
      "text/plain": [
       "(array([  9.,  43.,  98., 180., 229., 219., 152.,  53.,  13.,   4.]),\n",
       " array([ 94.02363234,  95.28074219,  96.53785205,  97.7949619 ,\n",
       "         99.05207175, 100.30918161, 101.56629146, 102.82340131,\n",
       "        104.08051117, 105.33762102, 106.59473088]),\n",
       " <a list of 10 Patch objects>)"
      ]
     },
     "execution_count": 21,
     "metadata": {},
     "output_type": "execute_result"
    },
    {
     "data": {
      "image/png": "[encoded data removed]",
      "text/plain": [
       "<Figure size 432x288 with 1 Axes>"
      ]
     },
     "metadata": {},
     "output_type": "display_data"
    }
   ],
   "source": [
    "import matplotlib.pyplot as plt\n",
    "import numpy as np\n",
    "plt.hist(np.random.normal(100, 2, 1000), bins=10)"
   ]
  },
  {
   "cell_type": "code",
   "execution_count": 37,
   "metadata": {},
   "outputs": [
    {
     "name": "stdout",
     "output_type": "stream",
     "text": [
      "# %timeit is useful magic function for determine the execution time of single line Python statement\n",
      "get_ipython().run_line_magic('timeit', 'L = [n ** 2 for n in range(10000)]')\n",
      "get_ipython().run_line_magic('timeit', 'L = %run external.py')\n",
      "(array([  9.,  43.,  98., 180., 229., 219., 152.,  53.,  13.,   4.]), array([ 94.02363234,  95.28074219,  96.53785205,  97.7949619 ,\n",
      "        99.05207175, 100.30918161, 101.56629146, 102.82340131,\n",
      "       104.08051117, 105.33762102, 106.59473088]), <a list of 10 Patch objects>)\n"
     ]
    },
    {
     "data": {
      "text/plain": [
       "False"
      ]
     },
     "execution_count": 37,
     "metadata": {},
     "output_type": "execute_result"
    }
   ],
   "source": [
    "#print(In) # gettint the whole history of IPython command run\n",
    "# In object is list of previous command\n",
    "print(In[1])\n",
    "# Out object is dictionnary mapping\n",
    "print(Out[21])\n",
    "# check if number exist in Object\n",
    "14 in Out"
   ]
  },
  {
   "cell_type": "code",
   "execution_count": 34,
   "metadata": {},
   "outputs": [
    {
     "name": "stdout",
     "output_type": "stream",
     "text": [
      "(array([  9.,  43.,  98., 180., 229., 219., 152.,  53.,  13.,   4.]), array([ 94.02363234,  95.28074219,  96.53785205,  97.7949619 ,\n",
      "        99.05207175, 100.30918161, 101.56629146, 102.82340131,\n",
      "       104.08051117, 105.33762102, 106.59473088]), <a list of 10 Patch objects>)\n",
      "(array([ 12.,  41.,  98., 190., 237., 194., 143.,  59.,  18.,   8.]), array([ 94.47515799,  95.64268301,  96.81020802,  97.97773304,\n",
      "        99.14525805, 100.31278307, 101.48030808, 102.6478331 ,\n",
      "       103.81535811, 104.98288313, 106.15040814]), <a list of 10 Patch objects>)\n"
     ]
    }
   ],
   "source": [
    "print(_) # getting previous output\n",
    "print(__) # getting second to last output (and then..)"
   ]
  },
  {
   "cell_type": "code",
   "execution_count": 40,
   "metadata": {},
   "outputs": [
    {
     "data": {
      "text/plain": [
       "0.4931505902785393"
      ]
     },
     "execution_count": 40,
     "metadata": {},
     "output_type": "execute_result"
    }
   ],
   "source": [
    "# suppress output statement\n",
    "import math\n",
    "math.sin(2) + math.cos(2); # use of semi colon to not print out result\n",
    "math.sin(2) + math.cos(2) # print will be done\n"
   ]
  },
  {
   "cell_type": "code",
   "execution_count": 42,
   "metadata": {},
   "outputs": [
    {
     "name": "stdout",
     "output_type": "stream",
     "text": [
      "   1:\n",
      "# %timeit is useful magic function for determine the execution time of single line Python statement\n",
      "%timeit L = [n ** 2 for n in range(10000)]\n",
      "%timeit L = %run external.py\n",
      "   2:\n",
      "# %timeit is useful magic function for determine the execution time of single line Python statement\n",
      "%timeit L = [n ** 2 for n in range(100)]\n",
      "%timeit L = %run external.py\n",
      "   3:\n",
      "# %timeit is useful magic function for determine the execution time of single line Python statement\n",
      "%timeit L = [n ** 2 for n in range(100)]\n",
      "   4: %timeit L = %run external.py\n",
      "   5:\n",
      "# %timeit is useful magic function for determine the execution time of single line Python statement\n",
      "%timeit L = [n ** 2 for n in range(100)]\n",
      "   6:\n",
      "# %timeit is useful magic function for determine the execution time of single line Python statement\n",
      "%timeit L = [n ** 2 ** 2 for n in range(100)]\n",
      "   7:\n",
      "# %timeit is useful magic function for determine the execution time of single line Python statement\n",
      "%timeit L = [n ** 2 ** 2 for n in range(10000)]\n",
      "   8: %%timeit\n",
      "   9:\n",
      "%%timeit \n",
      "L = []\n",
      "for n in range(1000):\n",
      "     L.append(n ** 2)\n",
      "  10:\n",
      "# %timeit is useful magic function for determine the execution time of single line Python statement\n",
      "%timeit L = [n ** 2 ** 2 for n in range(1000)]\n"
     ]
    }
   ],
   "source": [
    "# getting history of IPython commands\n",
    "%history -n 1-10"
   ]
  },
  {
   "cell_type": "markdown",
   "metadata": {},
   "source": [
    "## IPython and Shell Commands"
   ]
  },
  {
   "cell_type": "code",
   "execution_count": 46,
   "metadata": {},
   "outputs": [
    {
     "name": "stdout",
     "output_type": "stream",
     "text": [
      "Hello\n",
      "Python 3.6.5\n",
      "total 56\n",
      "drwxr-xr-x   5 jeromebuisine  staff    160 Apr 30 12:23 \u001b[1m\u001b[36m.\u001b[m\u001b[m\n",
      "drwxr-xr-x  12 jeromebuisine  staff    384 Apr 24 22:23 \u001b[1m\u001b[36m..\u001b[m\u001b[m\n",
      "drwxr-xr-x   3 jeromebuisine  staff     96 Apr 23 22:50 \u001b[1m\u001b[36m.ipynb_checkpoints\u001b[m\u001b[m\n",
      "-rw-r--r--   1 jeromebuisine  staff  22523 Apr 30 12:23 IPython.ipynb\n",
      "-rw-r--r--   1 jeromebuisine  staff    121 Apr 30 11:40 external.py\n",
      "/Users/jeromebuisine/git/Tutorials/python-learn/01.IPython\n"
     ]
    }
   ],
   "source": [
    "# ! character can let user execute Shell command\n",
    "! echo \"Hello\"\n",
    "! python --version\n",
    "! ls -la\n",
    "! pwd"
   ]
  },
  {
   "cell_type": "code",
   "execution_count": 50,
   "metadata": {},
   "outputs": [
    {
     "name": "stdout",
     "output_type": "stream",
     "text": [
      "['IPython.ipynb', 'external.py']\n",
      "external.py\n"
     ]
    }
   ],
   "source": [
    "# values exchanges between IPython and Shell\n",
    "contents = !ls\n",
    "print(contents)\n",
    "print(contents[1])"
   ]
  },
  {
   "cell_type": "code",
   "execution_count": 51,
   "metadata": {},
   "outputs": [
    {
     "data": {
      "text/plain": [
       "IPython.utils.text.SList"
      ]
     },
     "execution_count": 51,
     "metadata": {},
     "output_type": "execute_result"
    }
   ],
   "source": [
    "directory = !pwd\n",
    "type(directory)\n"
   ]
  },
  {
   "cell_type": "code",
   "execution_count": 63,
   "metadata": {},
   "outputs": [
    {
     "name": "stdout",
     "output_type": "stream",
     "text": [
      "PING jeromebuisine.fr (164.132.40.169): 56 data bytes\n",
      "64 bytes from 164.132.40.169: icmp_seq=0 ttl=50 time=18.731 ms\n",
      "64 bytes from 164.132.40.169: icmp_seq=1 ttl=50 time=19.513 ms\n",
      "64 bytes from 164.132.40.169: icmp_seq=2 ttl=50 time=39.301 ms\n",
      "64 bytes from 164.132.40.169: icmp_seq=3 ttl=50 time=19.182 ms\n",
      "\n",
      "--- jeromebuisine.fr ping statistics ---\n",
      "4 packets transmitted, 4 packets received, 0.0% packet loss\n",
      "round-trip min/avg/max/stddev = 18.731/24.182/39.301/8.734 ms\n"
     ]
    }
   ],
   "source": [
    "url = \"jeromebuisine.fr\"\n",
    "!ping {url} -c 4"
   ]
  },
  {
   "cell_type": "code",
   "execution_count": 56,
   "metadata": {},
   "outputs": [
    {
     "name": "stdout",
     "output_type": "stream",
     "text": [
      "IPython.ipynb external.py\n",
      "IPython.ipynb external.py\n"
     ]
    }
   ],
   "source": [
    "# you cannot navigate folders\n",
    "!ls\n",
    "!cd ..\n",
    "!ls "
   ]
  },
  {
   "cell_type": "code",
   "execution_count": 62,
   "metadata": {},
   "outputs": [
    {
     "name": "stdout",
     "output_type": "stream",
     "text": [
      "/\n",
      "\u001b[1m\u001b[36mApplications\u001b[m\u001b[m              \u001b[1m\u001b[36mcores\u001b[m\u001b[m                     \u001b[1m\u001b[36mprivate\u001b[m\u001b[m\r\n",
      "\u001b[1m\u001b[36mLibrary\u001b[m\u001b[m                   \u001b[1m\u001b[36mdev\u001b[m\u001b[m                       \u001b[1m\u001b[36msbin\u001b[m\u001b[m\r\n",
      "\u001b[1m\u001b[36mNetwork\u001b[m\u001b[m                   \u001b[35metc\u001b[m\u001b[m                       \u001b[35mtmp\u001b[m\u001b[m\r\n",
      "\u001b[1m\u001b[36mSystem\u001b[m\u001b[m                    \u001b[1m\u001b[36mhome\u001b[m\u001b[m                      \u001b[1m\u001b[36musr\u001b[m\u001b[m\r\n",
      "\u001b[1m\u001b[36mUsers\u001b[m\u001b[m                     installer.failurerequests \u001b[35mvar\u001b[m\u001b[m\r\n",
      "\u001b[1m\u001b[36mVolumes\u001b[m\u001b[m                   \u001b[1m\u001b[36mnet\u001b[m\u001b[m                       \u001b[1m\u001b[36mvm\u001b[m\u001b[m\r\n",
      "\u001b[1m\u001b[36mbin\u001b[m\u001b[m                       \u001b[1m\u001b[36mopt\u001b[m\u001b[m\r\n"
     ]
    }
   ],
   "source": [
    "# Use of magic functions do that\n",
    "# %cat, %ls, %man, %mkdir, %more\n",
    "%cd ..\n",
    "!ls"
   ]
  },
  {
   "cell_type": "code",
   "execution_count": 67,
   "metadata": {},
   "outputs": [
    {
     "name": "stdout",
     "output_type": "stream",
     "text": [
      "\n",
      "Automagic is ON, % prefix IS NOT needed for line magics.\n"
     ]
    }
   ],
   "source": [
    "# If automagic is set to ON all shell command do not required % prefix\n",
    "%automagic on"
   ]
  },
  {
   "cell_type": "code",
   "execution_count": 69,
   "metadata": {},
   "outputs": [
    {
     "name": "stdout",
     "output_type": "stream",
     "text": [
      "total 37\r\n",
      "drwxr-xr-x  30 root  wheel   960 Apr 21 19:27 \u001b[1m\u001b[36m.\u001b[m\u001b[m/\r\n",
      "drwxr-xr-x  30 root  wheel   960 Apr 21 19:27 \u001b[1m\u001b[36m..\u001b[m\u001b[m/\r\n",
      "-rw-rw-r--   1 root  admin  6148 Apr 14 20:53 .DS_Store\r\n",
      "d--x--x--x   9 root  wheel   288 Apr 30 09:36 \u001b[1m\u001b[36m.DocumentRevisions-V100\u001b[m\u001b[m/\r\n",
      "dr-xr-xr-t@  2 root  wheel    64 Mar 27  2017 \u001b[1m\u001b[36m.HFS+ Private Directory Data?\u001b[m\u001b[m/\r\n",
      "drwxr-xr-x@  2 root  wheel    64 Apr 30 09:47 \u001b[1m\u001b[36m.PKInstallSandboxManager-SystemSoftware\u001b[m\u001b[m/\r\n",
      "drwx------   5 root  wheel   160 Mar 27  2017 \u001b[1m\u001b[36m.Spotlight-V100\u001b[m\u001b[m/\r\n",
      "----------   1 root  admin     0 Oct  3  2017 .file\r\n",
      "drwx------  42 root  wheel  1344 Apr 30 10:00 \u001b[1m\u001b[36m.fseventsd\u001b[m\u001b[m/\r\n",
      "drwxr-xr-x   2 root  wheel    64 Dec  9 00:00 \u001b[1m\u001b[36m.vol\u001b[m\u001b[m/\r\n",
      "drwxrwxr-x+ 66 root  admin  2112 Apr 22 10:49 \u001b[1m\u001b[36mApplications\u001b[m\u001b[m/\r\n",
      "drwxr-xr-x+ 64 root  wheel  2048 Dec  9 00:05 \u001b[1m\u001b[36mLibrary\u001b[m\u001b[m/\r\n",
      "drwxr-xr-x   2 root  wheel    64 Dec  9 00:00 \u001b[1m\u001b[36mNetwork\u001b[m\u001b[m/\r\n",
      "drwxr-xr-x@  4 root  wheel   128 Dec  1 20:36 \u001b[1m\u001b[36mSystem\u001b[m\u001b[m/\r\n",
      "drwxr-xr-x   6 root  admin   192 Dec  9 00:00 \u001b[1m\u001b[36mUsers\u001b[m\u001b[m/\r\n",
      "drwxr-xr-x@  3 root  wheel    96 Apr 30 09:47 \u001b[1m\u001b[36mVolumes\u001b[m\u001b[m/\r\n",
      "drwxr-xr-x@ 38 root  wheel  1216 Apr 21 19:08 \u001b[1m\u001b[36mbin\u001b[m\u001b[m/\r\n",
      "drwxrwxr-t   2 root  admin    64 Dec  9 00:00 \u001b[1m\u001b[36mcores\u001b[m\u001b[m/\r\n",
      "dr-xr-xr-x   3 root  wheel  4360 Apr 30 09:35 \u001b[1m\u001b[36mdev\u001b[m\u001b[m/\r\n",
      "lrwxr-xr-x@  1 root  wheel    11 Dec  8 23:57 \u001b[35metc\u001b[m\u001b[m@ -> private/etc\r\n",
      "dr-xr-xr-x   2 root  wheel     1 Apr 30 09:51 \u001b[1m\u001b[36mhome\u001b[m\u001b[m/\r\n",
      "-rw-r--r--   1 root  wheel   313 Oct  6  2017 installer.failurerequests\r\n",
      "dr-xr-xr-x   2 root  wheel     1 Apr 30 09:51 \u001b[1m\u001b[36mnet\u001b[m\u001b[m/\r\n",
      "drwxr-xr-x   3 root  wheel    96 Sep 26  2016 \u001b[1m\u001b[36mopt\u001b[m\u001b[m/\r\n",
      "drwxr-xr-x   6 root  wheel   192 Dec  9 00:00 \u001b[1m\u001b[36mprivate\u001b[m\u001b[m/\r\n",
      "drwxr-xr-x@ 63 root  wheel  2016 Apr 21 19:08 \u001b[1m\u001b[36msbin\u001b[m\u001b[m/\r\n",
      "lrwxr-xr-x@  1 root  wheel    11 Dec  8 23:57 \u001b[35mtmp\u001b[m\u001b[m@ -> private/tmp\r\n",
      "drwxr-xr-x@ 12 root  wheel   384 Feb 16 12:02 \u001b[1m\u001b[36musr\u001b[m\u001b[m/\r\n",
      "lrwxr-xr-x@  1 root  wheel    11 Dec  8 23:58 \u001b[35mvar\u001b[m\u001b[m@ -> private/var\r\n",
      "drwxr-xr-x   3 root  wheel    96 Apr 21 19:09 \u001b[1m\u001b[36mvm\u001b[m\u001b[m/\r\n"
     ]
    }
   ],
   "source": [
    "ls -la"
   ]
  },
  {
   "cell_type": "code",
   "execution_count": 70,
   "metadata": {},
   "outputs": [
    {
     "data": {
      "text/plain": [
       "'/'"
      ]
     },
     "execution_count": 70,
     "metadata": {},
     "output_type": "execute_result"
    }
   ],
   "source": [
    "pwd"
   ]
  },
  {
   "cell_type": "code",
   "execution_count": null,
   "metadata": {},
   "outputs": [],
   "source": []
  }
 ],
 "metadata": {
  "kernelspec": {
   "display_name": "Python 3",
   "language": "python",
   "name": "python3"
  },
  "language_info": {
   "codemirror_mode": {
    "name": "ipython",
    "version": 3
   },
   "file_extension": ".py",
   "mimetype": "text/x-python",
   "name": "python",
   "nbconvert_exporter": "python",
   "pygments_lexer": "ipython3",
   "version": "3.6.5"
  }
 },
 "nbformat": 4,
 "nbformat_minor": 2
}
